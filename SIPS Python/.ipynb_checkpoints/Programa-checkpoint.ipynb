{
 "cells": [
  {
   "cell_type": "code",
   "execution_count": 3,
   "metadata": {},
   "outputs": [
    {
     "name": "stdout",
     "output_type": "stream",
     "text": [
      "solution: x1 = 0.0; x2 = 1.3333333333333333\n"
     ]
    }
   ],
   "source": [
    "import xpress as xp\n",
    "import numpy as np\n",
    "\n",
    "x = xp.var(vartype=xp.integer, name='x1', lb=-10, ub=10)\n",
    "y = xp.var(name='x2')\n",
    "p = xp.problem(name='myexample')\n",
    "\n",
    "p.addVariable(x,y)\n",
    "p.setObjective(x**2 + 2*y)\n",
    "p.addConstraint(x + 3*y >= 4)\n",
    "p.solve()\n",
    "print (\"solution: {0} = {1}; {2} = {3}\".format (x.name, p.getSolution(x), y.name, p.getSolution(y)))"
   ]
  },
  {
   "cell_type": "code",
   "execution_count": 4,
   "metadata": {},
   "outputs": [],
   "source": [
    "import win32com.client\n",
    "\n",
    "class DSS(object):\n",
    "     def __init__(self, dssFileName):\n",
    "            # Create a new instance of the DSS\n",
    "            self.dssObj = win32.com.client.Dispatch(\"OpenDSSEngine.DSS\")\n",
    "            # Start the DSS\n",
    "            if self.dssObj.Start(0)=false:\n",
    "                print(\"DSS Failed to Start\")\n",
    "            else:\n",
    "                #Assign a variable to each of the nterface for easier access\n",
    "                self.dssText = self.dssObj.Text\n",
    "                self.dssCircuit = self.dssObj.ActiveCircuit\n",
    "                self.dssSolution = self.dssCircuit.Solution\n",
    "                \n",
    "            self.dssObj.ClearAll()\n",
    "            \n",
    "            self.dssText.Command = \"Compile \" + dssFileName\n",
    "            \n",
    "        def mySolve(self):\n",
    "            self.dssSolution.Solve()\n",
    "    \n",
    "if __name__ = '__main__':\n",
    "    file = getCurrentFolder + 'Red.txt'\n",
    "    myObject = DSS('')"
   ]
  },
  {
   "cell_type": "code",
   "execution_count": 8,
   "metadata": {},
   "outputs": [],
   "source": [
    "import os\n",
    "\n",
    "def getCurrentFolder():\n",
    "    return os.path.dirname(os.path.abspath(''))"
   ]
  }
 ],
 "metadata": {
  "hide_input": false,
  "kernelspec": {
   "display_name": "Python 3",
   "language": "python",
   "name": "python3"
  },
  "language_info": {
   "codemirror_mode": {
    "name": "ipython",
    "version": 3
   },
   "file_extension": ".py",
   "mimetype": "text/x-python",
   "name": "python",
   "nbconvert_exporter": "python",
   "pygments_lexer": "ipython3",
   "version": "3.6.4"
  }
 },
 "nbformat": 4,
 "nbformat_minor": 2
}
